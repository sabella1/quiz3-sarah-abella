{
  "nbformat": 4,
  "nbformat_minor": 0,
  "metadata": {
    "colab": {
      "name": "quiz-3-sarah-abella.ipynb",
      "provenance": [],
      "collapsed_sections": []
    },
    "kernelspec": {
      "name": "python3",
      "display_name": "Python 3"
    }
  },
  "cells": [
    {
      "cell_type": "markdown",
      "metadata": {
        "id": "ajJXrSIbatYm",
        "colab_type": "text"
      },
      "source": [
        "# Sarah Abella |sabella1@jhu.edu | sabella1\n",
        "## Quiz 3 "
      ]
    },
    {
      "cell_type": "code",
      "metadata": {
        "id": "_CAcgSFHbGcy",
        "colab_type": "code",
        "outputId": "f84dc637-5664-42e9-b960-6682faf716d5",
        "colab": {
          "base_uri": "https://localhost:8080/",
          "height": 312
        }
      },
      "source": [
        "#Problem 1\n",
        "import numpy as np\n",
        "import pandas as pd\n",
        "import matplotlib.pyplot as plt\n",
        "import sklearn.linear_model as lm\n",
        "\n",
        "! if [ ! -e orings.csv ] ; \\\n",
        "  then wget https://raw.githubusercontent.com/bcaffo/ds4bme_intro/master/data/orings.csv; \\\n",
        "fi;\n",
        "\n",
        "#reading in data\n",
        "df = pd.read_csv(\"orings.csv\")\n",
        "\n",
        "\n",
        "temp = df[['Temperature']]\n",
        "erosion = df['Erosion']\n",
        "total = df['Total']\n",
        "blowby = df['Blowby']\n",
        "\n",
        "#ofail array with failures of total>0\n",
        "ofail = []\n",
        "\n",
        "for i in total:\n",
        "    if i > 0:\n",
        "      ofail.append(1)\n",
        "    else:\n",
        "      ofail.append(0)\n",
        "\n",
        "#plotting the oring fail vs temp\n",
        "plt.plot(temp, ofail, 'x')\n",
        "plt.title('O-ring Fail vs. Temp')\n",
        "plt.xlabel('Temp')\n",
        "plt.ylabel('O-ring Fail')\n",
        "\n"
      ],
      "execution_count": 60,
      "outputs": [
        {
          "output_type": "execute_result",
          "data": {
            "text/plain": [
              "Text(0, 0.5, 'O-ring Fail')"
            ]
          },
          "metadata": {
            "tags": []
          },
          "execution_count": 60
        },
        {
          "output_type": "display_data",
          "data": {
            "image/png": "[encoded data removed]",
            "text/plain": [
              "<Figure size 432x288 with 1 Axes>"
            ]
          },
          "metadata": {
            "tags": []
          }
        }
      ]
    },
    {
      "cell_type": "code",
      "metadata": {
        "id": "M-qva-NJQ-t7",
        "colab_type": "code",
        "outputId": "5d9e8f4c-6bed-4ba4-f042-85c59d7b5583",
        "colab": {
          "base_uri": "https://localhost:8080/",
          "height": 89
        }
      },
      "source": [
        "#fitting logistic regression to data\n",
        "\n",
        "lr = lm.LogisticRegression(fit_intercept=True, intercept_scaling=50)\n",
        "fit = lr.fit(temp, ofail)\n",
        "\n",
        "#find params \n",
        "b0, b1 = [fit.intercept_[0], fit.coef_[0][0]]\n",
        "[b0, b1]"
      ],
      "execution_count": 61,
      "outputs": [
        {
          "output_type": "stream",
          "text": [
            "/usr/local/lib/python3.6/dist-packages/sklearn/linear_model/logistic.py:432: FutureWarning: Default solver will be changed to 'lbfgs' in 0.22. Specify a solver to silence this warning.\n",
            "  FutureWarning)\n"
          ],
          "name": "stderr"
        },
        {
          "output_type": "execute_result",
          "data": {
            "text/plain": [
              "[14.558863307975212, -0.22506801019964276]"
            ]
          },
          "metadata": {
            "tags": []
          },
          "execution_count": 61
        }
      ]
    },
    {
      "cell_type": "code",
      "metadata": {
        "id": "XKU5Bl6qSMVW",
        "colab_type": "code",
        "outputId": "9baed067-2519-4aa9-e10d-a9d64a17e7fc",
        "colab": {
          "base_uri": "https://localhost:8080/",
          "height": 321
        }
      },
      "source": [
        "n = 1000\n",
        "xp = np.linspace(30,100,n)\n",
        "E = b0 + b1 * xp\n",
        "pl = 1 / (1+np.exp(-E))\n",
        "plt.plot(temp, ofail, 'x')\n",
        "plt.plot(xp, pl)\n",
        "\n",
        "t1 = [74]\n",
        "pred = fit.predict([t1])\n",
        "print(pred)\n",
        "\n",
        "prob = fit.predict_proba([t1])\n",
        "print(prob)\n",
        "print(\"Prob failure is 10.95%.\")"
      ],
      "execution_count": 62,
      "outputs": [
        {
          "output_type": "stream",
          "text": [
            "[0]\n",
            "[[0.89053031 0.10946969]]\n",
            "Prob failure is 10.95%.\n"
          ],
          "name": "stdout"
        },
        {
          "output_type": "display_data",
          "data": {
            "image/png": "[encoded data removed]",
            "text/plain": [
              "<Figure size 432x288 with 1 Axes>"
            ]
          },
          "metadata": {
            "tags": []
          }
        }
      ]
    },
    {
      "cell_type": "markdown",
      "metadata": {
        "id": "dx_EQ2oWYQpg",
        "colab_type": "text"
      },
      "source": [
        "#Number 2\n",
        "Open link to see image of work and solutions for number 2\n",
        "\n",
        "https://drive.google.com/file/d/1q4S-Be_PXahPix3Czyn61KJ3ZqTaxyqX/view?usp=sharing"
      ]
    },
    {
      "cell_type": "markdown",
      "metadata": {
        "id": "kz1N596WYKhp",
        "colab_type": "text"
      },
      "source": [
        "#Number 3"
      ]
    },
    {
      "cell_type": "code",
      "metadata": {
        "id": "eAjQtvnuU74b",
        "colab_type": "code",
        "outputId": "1bec5968-2779-4208-e820-00175afcd5d9",
        "colab": {
          "base_uri": "https://localhost:8080/",
          "height": 357
        }
      },
      "source": [
        "#My wine data set loaded in 10 lines\n",
        "url = 'http://mlr.cs.umass.edu/ml/machine-learning-databases/wine-quality/winequality-red.csv'\n",
        "data = pd.read_csv(url)\n",
        "data.head(10)"
      ],
      "execution_count": 63,
      "outputs": [
        {
          "output_type": "execute_result",
          "data": {
            "text/html": [
              "<div>\n",
              "<style scoped>\n",
              "    .dataframe tbody tr th:only-of-type {\n",
              "        vertical-align: middle;\n",
              "    }\n",
              "\n",
              "    .dataframe tbody tr th {\n",
              "        vertical-align: top;\n",
              "    }\n",
              "\n",
              "    .dataframe thead th {\n",
              "        text-align: right;\n",
              "    }\n",
              "</style>\n",
              "<table border=\"1\" class=\"dataframe\">\n",
              "  <thead>\n",
              "    <tr style=\"text-align: right;\">\n",
              "      <th></th>\n",
              "      <th>fixed acidity;\"volatile acidity\";\"citric acid\";\"residual sugar\";\"chlorides\";\"free sulfur dioxide\";\"total sulfur dioxide\";\"density\";\"pH\";\"sulphates\";\"alcohol\";\"quality\"</th>\n",
              "    </tr>\n",
              "  </thead>\n",
              "  <tbody>\n",
              "    <tr>\n",
              "      <th>0</th>\n",
              "      <td>7.4;0.7;0;1.9;0.076;11;34;0.9978;3.51;0.56;9.4;5</td>\n",
              "    </tr>\n",
              "    <tr>\n",
              "      <th>1</th>\n",
              "      <td>7.8;0.88;0;2.6;0.098;25;67;0.9968;3.2;0.68;9.8;5</td>\n",
              "    </tr>\n",
              "    <tr>\n",
              "      <th>2</th>\n",
              "      <td>7.8;0.76;0.04;2.3;0.092;15;54;0.997;3.26;0.65;...</td>\n",
              "    </tr>\n",
              "    <tr>\n",
              "      <th>3</th>\n",
              "      <td>11.2;0.28;0.56;1.9;0.075;17;60;0.998;3.16;0.58...</td>\n",
              "    </tr>\n",
              "    <tr>\n",
              "      <th>4</th>\n",
              "      <td>7.4;0.7;0;1.9;0.076;11;34;0.9978;3.51;0.56;9.4;5</td>\n",
              "    </tr>\n",
              "    <tr>\n",
              "      <th>5</th>\n",
              "      <td>7.4;0.66;0;1.8;0.075;13;40;0.9978;3.51;0.56;9.4;5</td>\n",
              "    </tr>\n",
              "    <tr>\n",
              "      <th>6</th>\n",
              "      <td>7.9;0.6;0.06;1.6;0.069;15;59;0.9964;3.3;0.46;9...</td>\n",
              "    </tr>\n",
              "    <tr>\n",
              "      <th>7</th>\n",
              "      <td>7.3;0.65;0;1.2;0.065;15;21;0.9946;3.39;0.47;10;7</td>\n",
              "    </tr>\n",
              "    <tr>\n",
              "      <th>8</th>\n",
              "      <td>7.8;0.58;0.02;2;0.073;9;18;0.9968;3.36;0.57;9.5;7</td>\n",
              "    </tr>\n",
              "    <tr>\n",
              "      <th>9</th>\n",
              "      <td>7.5;0.5;0.36;6.1;0.071;17;102;0.9978;3.35;0.8;...</td>\n",
              "    </tr>\n",
              "  </tbody>\n",
              "</table>\n",
              "</div>"
            ],
            "text/plain": [
              "  fixed acidity;\"volatile acidity\";\"citric acid\";\"residual sugar\";\"chlorides\";\"free sulfur dioxide\";\"total sulfur dioxide\";\"density\";\"pH\";\"sulphates\";\"alcohol\";\"quality\"\n",
              "0   7.4;0.7;0;1.9;0.076;11;34;0.9978;3.51;0.56;9.4;5                                                                                                                     \n",
              "1   7.8;0.88;0;2.6;0.098;25;67;0.9968;3.2;0.68;9.8;5                                                                                                                     \n",
              "2  7.8;0.76;0.04;2.3;0.092;15;54;0.997;3.26;0.65;...                                                                                                                     \n",
              "3  11.2;0.28;0.56;1.9;0.075;17;60;0.998;3.16;0.58...                                                                                                                     \n",
              "4   7.4;0.7;0;1.9;0.076;11;34;0.9978;3.51;0.56;9.4;5                                                                                                                     \n",
              "5  7.4;0.66;0;1.8;0.075;13;40;0.9978;3.51;0.56;9.4;5                                                                                                                     \n",
              "6  7.9;0.6;0.06;1.6;0.069;15;59;0.9964;3.3;0.46;9...                                                                                                                     \n",
              "7   7.3;0.65;0;1.2;0.065;15;21;0.9946;3.39;0.47;10;7                                                                                                                     \n",
              "8  7.8;0.58;0.02;2;0.073;9;18;0.9968;3.36;0.57;9.5;7                                                                                                                     \n",
              "9  7.5;0.5;0.36;6.1;0.071;17;102;0.9978;3.35;0.8;...                                                                                                                     "
            ]
          },
          "metadata": {
            "tags": []
          },
          "execution_count": 63
        }
      ]
    }
  ]
}